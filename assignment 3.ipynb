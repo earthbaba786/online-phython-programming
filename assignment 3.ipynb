{
 "cells": [
  {
   "cell_type": "code",
   "execution_count": 1,
   "metadata": {},
   "outputs": [
    {
     "name": "stdout",
     "output_type": "stream",
     "text": [
      "Python Programming Language\n",
      "Assignmnet # 3\n",
      "1  Write a Python program to print the following string in a specific format(see the output)\n"
     ]
    }
   ],
   "source": [
    "print(\"Python Programming Language\");\n",
    "print(\"Assignmnet # 3\");\n",
    "print(\"1  Write a Python program to print the following string in a specific format(see the output)\");"
   ]
  },
  {
   "cell_type": "code",
   "execution_count": 2,
   "metadata": {},
   "outputs": [
    {
     "name": "stdout",
     "output_type": "stream",
     "text": [
      "          Twinkle, twinkle, little star,\n",
      "                    How I wonder what you are!\n",
      "                              Up above the world so high,\n",
      "                              Like a diamond in the sky.\n",
      "          Twinkle, twinkle, little star,\n",
      "                    How I wonder what you are\n"
     ]
    }
   ],
   "source": [
    "print(10*' '+\"Twinkle, twinkle, little star,\");\n",
    "print(20*' '+\"How I wonder what you are!\");\n",
    "print(30*' '+\"Up above the world so high,\");\n",
    "print(30*' '+\"Like a diamond in the sky.\");\n",
    "print(10*' '+\"Twinkle, twinkle, little star,\");\n",
    "print(20*' '+\"How I wonder what you are\");"
   ]
  },
  {
   "cell_type": "code",
   "execution_count": 3,
   "metadata": {},
   "outputs": [
    {
     "name": "stdout",
     "output_type": "stream",
     "text": [
      "2.  Write a Python program to get the Python version you are using \n",
      "Python version = 3.7.6 (default, Jan  8 2020, 20:23:39) [MSC v.1916 64 bit (AMD64)]\n"
     ]
    }
   ],
   "source": [
    "print(\"2.  Write a Python program to get the Python version you are using \");\n",
    "import sys\n",
    "print(\"Python version = \"+sys.version);"
   ]
  },
  {
   "cell_type": "code",
   "execution_count": 4,
   "metadata": {},
   "outputs": [
    {
     "name": "stdout",
     "output_type": "stream",
     "text": [
      "3.  Write a Python program to display the current date and time.\n",
      "Current date and time = 2021-10-24 08:32:01\n"
     ]
    }
   ],
   "source": [
    "print(\"3.  Write a Python program to display the current date and time.\");\n",
    "import datetime\n",
    "datenow = datetime.datetime.now();\n",
    "print(\"Current date and time = \"+ datenow.strftime(\"%Y-%m-%d %H:%M:%S\"));"
   ]
  },
  {
   "cell_type": "code",
   "execution_count": 5,
   "metadata": {},
   "outputs": [
    {
     "name": "stdout",
     "output_type": "stream",
     "text": [
      "4.  Write a Python program which accepts the radius of a circle from the user and compute the area.\n",
      "Enter the radius of a circle = 2\n",
      "Area of a circle = 12.56\n"
     ]
    }
   ],
   "source": [
    "print(\"4.  Write a Python program which accepts the radius of a circle from the user and compute the area.\");\n",
    "PI = 3.14;\n",
    "r = float(input(\"Enter the radius of a circle = \"));\n",
    "area = PI * r * r;\n",
    "print(\"Area of a circle = %.2f\" %area);"
   ]
  },
  {
   "cell_type": "code",
   "execution_count": 6,
   "metadata": {},
   "outputs": [
    {
     "name": "stdout",
     "output_type": "stream",
     "text": [
      "5.  Write a Python program which accepts the user's first and last name and print them in reverse order with a space between them.\n",
      "Enter First Name =e\n",
      "Enter Last Name =e\n",
      "e e\n"
     ]
    }
   ],
   "source": [
    "print(\"5.  Write a Python program which accepts the user's first and last name and print them in reverse order with a space between them.\");\n",
    "firstname = input(\"Enter First Name =\" );\n",
    "lastname = input(\"Enter Last Name =\" );\n",
    "print(lastname+\" \"+firstname);\n"
   ]
  },
  {
   "cell_type": "code",
   "execution_count": 10,
   "metadata": {},
   "outputs": [
    {
     "name": "stdout",
     "output_type": "stream",
     "text": [
      "6.  Write a python program which takes two inputs from user and print them addition\n",
      "Enter the First number = 7\n",
      "Enter the Second number = 4\n",
      "Addition = 11.00\n"
     ]
    }
   ],
   "source": [
    "print(\"6.  Write a python program which takes two inputs from user and print them addition\");\n",
    "one = float(input(\"Enter the First number = \"));\n",
    "second = float(input(\"Enter the Second number = \"));\n",
    "add= one+second;\n",
    "print(\"Addition = %.2f\"%add);"
   ]
  },
  {
   "cell_type": "code",
   "execution_count": 37,
   "metadata": {},
   "outputs": [
    {
     "name": "stdout",
     "output_type": "stream",
     "text": [
      "7.  Write a program which takes 5 inputs from user for different subject’s marks, total it and generate mark sheet using grades ? \n",
      "Enter marks for English = 44\n",
      "Enter marks for Urdu = 44\n",
      "Enter marks for Maths = 44\n",
      "Enter marks for Physics = 44\n",
      "Enter marks for Biology = 44\n",
      "44.0\n",
      "English  Urdu   Maths  Physics  Biology   = Total---Garde\n",
      "44 /100 44 /100 44 /100 44 /100 44 /100  =  220 /500 E\n"
     ]
    }
   ],
   "source": [
    "print(\"7.  Write a program which takes 5 inputs from user for different subject’s marks, total it and generate mark sheet using grades ? \")\n",
    "eng = int(input(\"Enter marks for English = \"));\n",
    "urd = int(input(\"Enter marks for Urdu = \"));\n",
    "mat = int(input(\"Enter marks for Maths = \"));\n",
    "phy = int(input(\"Enter marks for Physics = \"));\n",
    "bio = int(input(\"Enter marks for Biology = \"));\n",
    "tot = eng+urd+mat+phy+bio;\n",
    "grad = (tot/500)*100;\n",
    "gad =\"0\";\n",
    "if (grad > 89):\n",
    "    gad =\"A+\";\n",
    "elif (grad > 79):\n",
    "    gad = \"A\";\n",
    "elif (grad > 69):\n",
    "    gad = \"B\";\n",
    "elif (grad > 59):\n",
    "    gad = \"C\";\n",
    "elif (grad > 49):\n",
    "    gad = \"D\";\n",
    "elif (grad > 39):\n",
    "    gad = \"E\";\n",
    "else:\n",
    "    print(\"F\");\n",
    "print(grad);\n",
    "print(\"English  Urdu   Maths  Physics  Biology   = Total---Garde\");\n",
    "print (eng,\"/100\",urd,\"/100\",mat,\"/100\",phy,\"/100\",bio,\"/100\",\" = \",tot,\"/500\" ,gad);\n",
    "\n"
   ]
  },
  {
   "cell_type": "markdown",
   "metadata": {},
   "source": [
    "### "
   ]
  },
  {
   "cell_type": "code",
   "execution_count": 41,
   "metadata": {},
   "outputs": [
    {
     "name": "stdout",
     "output_type": "stream",
     "text": [
      "8.  Write a program which take input from user and identify that the given number is even or odd?\n",
      "Enter Number = 8\n",
      "Even Number\n"
     ]
    }
   ],
   "source": [
    "print(\"8.  Write a program which take input from user and identify that the given number is even or odd?\");\n",
    "num = int(input(\"Enter Number = \"));\n",
    "if(num % 2 == 0):\n",
    "    print(\"Even Number\");\n",
    "else:\n",
    "    print(\"Odd Number\");    "
   ]
  },
  {
   "cell_type": "code",
   "execution_count": 47,
   "metadata": {},
   "outputs": [
    {
     "name": "stdout",
     "output_type": "stream",
     "text": [
      "9.  Write a program which print the length of the list?\n",
      "5\n"
     ]
    }
   ],
   "source": [
    "print(\"9.  Write a program which print the length of the list?\");\n",
    "a = [1, 2, 3, 4, 5]\n",
    "print (len(a))"
   ]
  },
  {
   "cell_type": "code",
   "execution_count": 55,
   "metadata": {},
   "outputs": [
    {
     "name": "stdout",
     "output_type": "stream",
     "text": [
      "10. Write a Python program to sum all the numeric items in a list? \n",
      "150\n"
     ]
    }
   ],
   "source": [
    "print(\"10. Write a Python program to sum all the numeric items in a list? \");\n",
    "a = [10, 20, 30, 40, 50]\n",
    "b = 0\n",
    "for x in range(len(a)):\n",
    "\t b = b + a[x]\n",
    "print (b);\n",
    "        \n",
    "        "
   ]
  },
  {
   "cell_type": "code",
   "execution_count": 78,
   "metadata": {},
   "outputs": [
    {
     "name": "stdout",
     "output_type": "stream",
     "text": [
      "11. Write a Python program to get the largest number from a numeric list. \n",
      "90\n"
     ]
    }
   ],
   "source": [
    "print(\"11. Write a Python program to get the largest number from a numeric list. \");\n",
    "a = [10, 90, 30, 40, 50]\n",
    "b = 0\n",
    "for x in range(len(a)):\n",
    "\tif a[x] > b:\n",
    "          b=a[x];\n",
    "    \n",
    "print (b);"
   ]
  },
  {
   "cell_type": "code",
   "execution_count": 79,
   "metadata": {},
   "outputs": [
    {
     "name": "stdout",
     "output_type": "stream",
     "text": [
      "12. Take a list, say for example this one:a = [1, 1, 2, 3, 5, 8, 13, 21, 34, 55, 89]  Write a program that prints out all the elements of the list that are less than 5.\n",
      "1\n",
      "1\n",
      "2\n",
      "3\n"
     ]
    }
   ],
   "source": [
    "print(\"12. Take a list, say for example this one:a = [1, 1, 2, 3, 5, 8, 13, 21, 34, 55, 89]  Write a program that prints out all the elements of the list that are less than 5.\")\n",
    "a = [1, 1, 2, 3, 5, 8, 13, 21, 34, 55, 89]\n",
    "for x in range(len(a)):\n",
    "\tif a[x] < 5:\n",
    "          print(a[x],);"
   ]
  },
  {
   "cell_type": "code",
   "execution_count": null,
   "metadata": {},
   "outputs": [],
   "source": []
  }
 ],
 "metadata": {
  "kernelspec": {
   "display_name": "Python 3",
   "language": "python",
   "name": "python3"
  },
  "language_info": {
   "codemirror_mode": {
    "name": "ipython",
    "version": 3
   },
   "file_extension": ".py",
   "mimetype": "text/x-python",
   "name": "python",
   "nbconvert_exporter": "python",
   "pygments_lexer": "ipython3",
   "version": "3.7.6"
  }
 },
 "nbformat": 4,
 "nbformat_minor": 4
}
